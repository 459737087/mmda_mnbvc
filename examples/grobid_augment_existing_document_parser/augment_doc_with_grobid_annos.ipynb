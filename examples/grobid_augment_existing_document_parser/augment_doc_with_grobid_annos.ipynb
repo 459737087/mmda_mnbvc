{
 "cells": [
  {
   "cell_type": "code",
   "execution_count": null,
   "metadata": {},
   "outputs": [],
   "source": [
    "%load_ext autoreload\n",
    "%autoreload 2"
   ]
  },
  {
   "attachments": {},
   "cell_type": "markdown",
   "metadata": {},
   "source": [
    "## Augment basic MMDA document with Grobid Annotations"
   ]
  },
  {
   "attachments": {},
   "cell_type": "markdown",
   "metadata": {},
   "source": [
    "#### Generate a basic PdfPlumber parsed MMDA doc\n"
   ]
  },
  {
   "cell_type": "code",
   "execution_count": null,
   "metadata": {},
   "outputs": [],
   "source": [
    "\n",
    "PDF_PATH = '../../tests/fixtures/grobid_augment_existing_document_parser/e5910c027af0ee9c1901c57f6579d903aedee7f4.pdf'\n",
    "from mmda.parsers import PDFPlumberParser\n",
    "from mmda.types import Document\n",
    "# PDF to text\n",
    "pdf_plumber = PDFPlumberParser()\n",
    "doc: Document = pdf_plumber.parse(input_pdf_path=PDF_PATH)\n",
    "doc.fields"
   ]
  },
  {
   "attachments": {},
   "cell_type": "markdown",
   "metadata": {},
   "source": [
    "#### Pass the doc as well as the PDF to the Grobid parser"
   ]
  },
  {
   "attachments": {},
   "cell_type": "markdown",
   "metadata": {},
   "source": [
    "Run a Grobid server (from https://grobid.readthedocs.io/en/latest/Grobid-docker/):\n",
    "> docker pull lfoppiano/grobid:0.7.2\n",
    "> docker run -t --rm -p 8070:8070 lfoppiano/grobid:0.7.2"
   ]
  },
  {
   "cell_type": "code",
   "execution_count": null,
   "metadata": {},
   "outputs": [],
   "source": [
    "\n",
    "from mmda.parsers.grobid_augment_existing_document_parser import GrobidAugmentExistingDocumentParser\n",
    "parser = GrobidAugmentExistingDocumentParser(config_path='../../src/mmda/parsers/grobid.config', check_server=True)"
   ]
  },
  {
   "cell_type": "code",
   "execution_count": null,
   "metadata": {},
   "outputs": [],
   "source": [
    "doc = parser.parse(PDF_PATH, doc, \".\")"
   ]
  },
  {
   "cell_type": "code",
   "execution_count": null,
   "metadata": {},
   "outputs": [],
   "source": [
    "doc.fields"
   ]
  },
  {
   "attachments": {},
   "cell_type": "markdown",
   "metadata": {},
   "source": [
    "## XML Playground\n",
    "\n",
    "### parse xml to md"
   ]
  },
  {
   "cell_type": "code",
   "execution_count": null,
   "outputs": [],
   "source": [
    "import xml.etree.ElementTree as et\n",
    "from collections import defaultdict\n",
    "\n",
    "XML_PATH = '../../tests/fixtures/grobid_augment_existing_document_parser/e5910c027af0ee9c1901c57f6579d903aedee7f4.xml'\n",
    "\n",
    "xml = open(XML_PATH, encoding='utf-8').read()\n",
    "\n",
    "xml_root = et.fromstring(xml)\n",
    "\n",
    "# Open markdown file\n",
    "with open('output.md', 'w', encoding='utf-8') as f:\n",
    "    # Iterate over all elements in the XML tree\n",
    "    for elem in xml_root.iter():\n",
    "        # If element has text, write it to the file\n",
    "        if elem.text:\n",
    "            f.write(elem.text + '\\n')"
   ],
   "metadata": {
    "collapsed": false
   }
  },
  {
   "cell_type": "code",
   "execution_count": null,
   "metadata": {},
   "outputs": [],
   "source": [
    "import xml.etree.ElementTree as et\n",
    "from collections import defaultdict\n",
    "\n",
    "XML_PATH = '../../tests/fixtures/grobid_augment_existing_document_parser/e5910c027af0ee9c1901c57f6579d903aedee7f4.xml'\n",
    "\n",
    "xml = open(XML_PATH, encoding='utf-8').read()\n",
    "\n",
    "xml_root = et.fromstring(xml)\n",
    "\n",
    "parser._cache_page_sizes(xml_root)\n",
    "\n",
    "parser.page_sizes\n"
   ]
  },
  {
   "cell_type": "code",
   "execution_count": null,
   "metadata": {},
   "outputs": [],
   "source": [
    "NS = {\"tei\": \"http://www.tei-c.org/ns/1.0\"}\n",
    "\n",
    "for child in xml_root:\n",
    "    print(child.tag)"
   ]
  },
  {
   "cell_type": "code",
   "execution_count": null,
   "metadata": {},
   "outputs": [],
   "source": [
    "\n",
    "author_list_root = xml_root.find(\".//tei:sourceDesc\", NS)\n",
    "print('author_list_root', author_list_root)\n",
    "\n",
    "author_names = []\n",
    "author_name_structs = author_list_root.findall(\".//tei:persName\", NS)\n",
    "\n",
    "for a in author_name_structs:\n",
    "    coords_string = a.attrib[\"coords\"]\n",
    "    boxes = parser._xml_coords_to_boxes(coords_string)\n",
    "author_names\n"
   ]
  },
  {
   "cell_type": "code",
   "execution_count": null,
   "metadata": {},
   "outputs": [],
   "source": [
    "\n",
    "body_root = xml_root.find(\".//tei:body\", NS)\n",
    "\n",
    "all_refs = body_root.findall(\".//tei:ref\", NS)\n",
    "\n",
    "bib_refs = []\n",
    "for r in all_refs:\n",
    "    type_attr = r.attrib[\"type\"]\n",
    "    if type_attr == \"bibr\":\n",
    "        bib_refs.append(r)\n",
    "\n",
    "print(len(all_refs))\n",
    "print(len(bib_refs))\n",
    "for ref in all_refs:\n",
    "    print(ref.attrib[\"type\"])"
   ]
  },
  {
   "attachments": {},
   "cell_type": "markdown",
   "metadata": {},
   "source": [
    "### Check out the Bibliography Entries"
   ]
  },
  {
   "cell_type": "code",
   "execution_count": null,
   "metadata": {},
   "outputs": [],
   "source": [
    "for bib in doc.bib_entries[:3]:\n",
    "    print(bib.id, bib.box_group.id)"
   ]
  },
  {
   "cell_type": "code",
   "execution_count": null,
   "metadata": {},
   "outputs": [],
   "source": [
    "for bib in doc.bib_entries[:3]:\n",
    "    print('\\n\\n', bib.spans, '\\n', bib.text)"
   ]
  },
  {
   "attachments": {},
   "cell_type": "markdown",
   "metadata": {},
   "source": [
    "### Check out the Author names"
   ]
  },
  {
   "cell_type": "code",
   "execution_count": null,
   "metadata": {},
   "outputs": [],
   "source": [
    "for author_name in doc.authors:\n",
    "    print('\\n\\n', author_name.spans, '\\n', author_name.text)"
   ]
  },
  {
   "attachments": {},
   "cell_type": "markdown",
   "metadata": {},
   "source": [
    "### Check out the Citation Mentions"
   ]
  },
  {
   "cell_type": "code",
   "execution_count": null,
   "metadata": {},
   "outputs": [],
   "source": [
    "for author_name in doc.citation_mentions:\n",
    "    print('\\n\\n', author_name.spans, '\\n', author_name.text)"
   ]
  },
  {
   "cell_type": "code",
   "execution_count": null,
   "outputs": [],
   "source": [],
   "metadata": {
    "collapsed": false
   }
  }
 ],
 "metadata": {
  "kernelspec": {
   "display_name": "mmda_grobid_full_parser",
   "language": "python",
   "name": "python3"
  },
  "language_info": {
   "codemirror_mode": {
    "name": "ipython",
    "version": 3
   },
   "file_extension": ".py",
   "mimetype": "text/x-python",
   "name": "python",
   "nbconvert_exporter": "python",
   "pygments_lexer": "ipython3",
   "version": "3.8.16"
  },
  "orig_nbformat": 4,
  "vscode": {
   "interpreter": {
    "hash": "dc38cbd6e5751ec215f598ee4bef57c27d0235302e69bf5b1dc0ed13ebb054b0"
   }
  }
 },
 "nbformat": 4,
 "nbformat_minor": 2
}
