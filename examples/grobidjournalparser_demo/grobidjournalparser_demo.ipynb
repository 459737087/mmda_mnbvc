{
 "cells": [
  {
   "cell_type": "markdown",
   "source": [
    "*以下命令均在windows cmd下运行\n",
    "# 运行grobid\n",
    "docker run --rm --init --ulimit core=0 -p 8070:8070 grobid/grobid:0.8.0-SNAPSHOT\n",
    "\n",
    "- 8070端口保持不变，如果修改需要同步修改grobidparser-resources/org/apache/tika/parser/journal/GrobidExtractor.properties配置中的端口"
   ],
   "metadata": {
    "collapsed": false
   },
   "id": "a68539d80963ca7e"
  },
  {
   "cell_type": "markdown",
   "source": [
    "# 运行Tika server\n",
    "java -cp \"./grobidparser-resources/tika-server-standard-2.9.1.jar;./grobidparser-resources/tika-parser-nlp-package-2.9.1.jar;./grobidparser-resources/\" org.apache.tika.server.core.TikaServerCli --config \"./grobidparser-resources/tika-config.xml\""
   ],
   "metadata": {
    "collapsed": false
   },
   "id": "5a7a1cff8baaa735"
  },
  {
   "cell_type": "markdown",
   "source": [
    "# 调用接口上传文件并获取解析结果\n",
    "\n",
    "curl -T \"./grobidparser-resources/e5910c027af0ee9c1901c57f6579d903aedee7f4.pdf\" -H \"Content-Disposition: attachment;filename=e5910c027af0ee9c1901c57f6579d903aedee7f4.pdf\" http://localhost:9998/rmeta"
   ],
   "metadata": {
    "collapsed": false
   },
   "id": "8799217702ac53c3"
  }
 ],
 "metadata": {
  "kernelspec": {
   "display_name": "Python 3",
   "language": "python",
   "name": "python3"
  },
  "language_info": {
   "codemirror_mode": {
    "name": "ipython",
    "version": 2
   },
   "file_extension": ".py",
   "mimetype": "text/x-python",
   "name": "python",
   "nbconvert_exporter": "python",
   "pygments_lexer": "ipython2",
   "version": "2.7.6"
  }
 },
 "nbformat": 4,
 "nbformat_minor": 5
}
